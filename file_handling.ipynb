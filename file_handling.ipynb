{
 "cells": [
  {
   "cell_type": "code",
   "execution_count": 1,
   "metadata": {},
   "outputs": [],
   "source": [
    "import os\n",
    "import os.path\n",
    "from PIL import Image"
   ]
  },
  {
   "cell_type": "markdown",
   "metadata": {},
   "source": [
    "# batch image filter"
   ]
  },
  {
   "cell_type": "code",
   "execution_count": 2,
   "metadata": {},
   "outputs": [],
   "source": [
    "def resize_images(path, width=512, height=512):\n",
    "    if not os.path.exists(path):\n",
    "        return 'No folder found'\n",
    "    for root, folders, files in os.walk(path):\n",
    "        for file in files:\n",
    "            if file.endswith('.jpg') or file.endswith('.jpeg') or file.endswith('.png'):\n",
    "                filepath = os.path.join(root,file)\n",
    "                img = Image.open(filepath)\n",
    "                rimg = img.resize((width,height))\n",
    "                name, ext = os.path.splitext(file)\n",
    "                rimg.save(os.path.join(path,f'{name}_{width}x{height}.{ext}'))"
   ]
  },
  {
   "cell_type": "code",
   "execution_count": 3,
   "metadata": {},
   "outputs": [],
   "source": [
    "resize_images(r'C:\\Users\\sharm\\Downloads', 1000,1000)"
   ]
  },
  {
   "cell_type": "markdown",
   "metadata": {},
   "source": [
    "# batch file rename"
   ]
  },
  {
   "cell_type": "code",
   "execution_count": null,
   "metadata": {},
   "outputs": [],
   "source": [
    "def file_rename(path, old_str, new_str):\n",
    "\tif not os.path.exists(path):\n",
    "        return 'No folder found'\n",
    "\tfor root, folders, files in os.walk(path):\n",
    "\t\tfor file in files:\n",
    "\t\t\tif(old_str.lower() in file.lower()):\n",
    "                os.rename(os.path.join(root,name), os.path.join(root, file.lower().replace(old_str,new_str)))"
   ]
  },
  {
   "cell_type": "markdown",
   "metadata": {},
   "source": [
    "# folder cleaner"
   ]
  },
  {
   "cell_type": "code",
   "execution_count": null,
   "metadata": {},
   "outputs": [],
   "source": [
    "def folder_cleaner(path):\n",
    "    extensions_keep = ['.ini','.idea','.pyc','.csv','.docx','.gif','.jpg','.jpeg','.mp4','.pdf','.png','.pptx','.txt','.wav','.xlsx','.zip']\n",
    "    remove_files = ['.zip','.png','.jpg','.jpeg','.mp4']\n",
    "    if not os.path.exists(path):\n",
    "        return 'No folder found'\n",
    "    for root, folders, files in os.walk(path):\n",
    "        for file in files:\n",
    "            if '.exe' not in extensions_keep:\n",
    "                '.exe'.append(remove_files)\n",
    "            else:\n",
    "                print(\"extension found\") \n",
    "print(f\"Extensions to be removed are {remove_files}\")  \n",
    "os.remove(remove_files)               \n",
    "\n",
    "              "
   ]
  },
  {
   "cell_type": "markdown",
   "metadata": {},
   "source": [
    "# folder filter"
   ]
  },
  {
   "cell_type": "code",
   "execution_count": null,
   "metadata": {},
   "outputs": [],
   "source": [
    "#import fnmatch and os\n",
    "import os, fnmatch\n",
    "\n",
    "#path to use\n",
    "path = r\"C:\\Users\\sharm\\OneDrive\\Documents\\minor project\\MINI_PROJECT\\fd\"\n",
    "\n",
    "#filter for all the python files\n",
    "files = fnmatch.filter(os.listdir(path), \"*.py\")\n",
    "\n",
    "#display the python files\n",
    "print(files)"
   ]
  }
 ],
 "metadata": {
  "kernelspec": {
   "display_name": "Python 3.9.12 ('base')",
   "language": "python",
   "name": "python3"
  },
  "language_info": {
   "codemirror_mode": {
    "name": "ipython",
    "version": 3
   },
   "file_extension": ".py",
   "mimetype": "text/x-python",
   "name": "python",
   "nbconvert_exporter": "python",
   "pygments_lexer": "ipython3",
   "version": "3.9.12 (main, Apr  4 2022, 05:22:27) [MSC v.1916 64 bit (AMD64)]"
  },
  "orig_nbformat": 4,
  "vscode": {
   "interpreter": {
    "hash": "e80d1d46b75296750b81c0002546df5514b0c5fb775e2d3e5e0663e4abd4c690"
   }
  }
 },
 "nbformat": 4,
 "nbformat_minor": 2
}
